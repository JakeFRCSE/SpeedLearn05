{
 "cells": [
  {
   "cell_type": "code",
   "execution_count": 1,
   "metadata": {},
   "outputs": [],
   "source": [
    "import numpy as np"
   ]
  },
  {
   "cell_type": "code",
   "execution_count": 2,
   "metadata": {},
   "outputs": [
    {
     "name": "stdout",
     "output_type": "stream",
     "text": [
      "1\n",
      "(4,)\n",
      "4\n"
     ]
    }
   ],
   "source": [
    "A = np.array([1,2,3,4])\n",
    "\n",
    "print(A.ndim) # 스칼라 = 0, 1차원 배열 = 1!\n",
    "print(A.shape) #  각 차원의 크기 리턴. (4, ) => 1차원에 4개 개수의 원소가 있다\n",
    "print(A.shape[0]) "
   ]
  },
  {
   "cell_type": "code",
   "execution_count": 4,
   "metadata": {},
   "outputs": [
    {
     "name": "stdout",
     "output_type": "stream",
     "text": [
      "2\n",
      "(3, 2)\n"
     ]
    }
   ],
   "source": [
    "B = np.array([\n",
    "    [1,2],[3,4],[5,6]\n",
    "])\n",
    "\n",
    "print(B.ndim) # 2\n",
    "print(B.shape) # 3 2 -> 3행 2열"
   ]
  },
  {
   "cell_type": "code",
   "execution_count": 6,
   "metadata": {},
   "outputs": [
    {
     "data": {
      "text/plain": [
       "array([[19, 22],\n",
       "       [43, 50]])"
      ]
     },
     "execution_count": 6,
     "metadata": {},
     "output_type": "execute_result"
    }
   ],
   "source": [
    "# 행렬곱 = dotProduct\n",
    "A = np.array([[1,2],[3,4]])\n",
    "B = np.array([[5,6],[7,8]])\n",
    "np.dot(A,B)"
   ]
  },
  {
   "cell_type": "code",
   "execution_count": 8,
   "metadata": {},
   "outputs": [
    {
     "name": "stdout",
     "output_type": "stream",
     "text": [
      "[[22 28]\n",
      " [49 64]]\n"
     ]
    }
   ],
   "source": [
    "#행렬곱 2\n",
    "A = np.array([[1,2,3],[4,5,6]]) # (2,3)\n",
    "B = np.array([[1,2],[3,4],[5,6]]) # (3,2)\n",
    "print(np.dot(A,B))"
   ]
  },
  {
   "cell_type": "code",
   "execution_count": 9,
   "metadata": {},
   "outputs": [
    {
     "name": "stdout",
     "output_type": "stream",
     "text": [
      "(2,) (2, 3)\n"
     ]
    }
   ],
   "source": [
    "# 신경망에서의 행렬곱(편향, 활성화함수 배제)\n",
    "X = np.array([1,2]) \n",
    "W = np.array([[1,3,5],[2,4,6]]) \n",
    "print(X.shape, W.shape)"
   ]
  },
  {
   "cell_type": "code",
   "execution_count": 11,
   "metadata": {},
   "outputs": [
    {
     "name": "stdout",
     "output_type": "stream",
     "text": [
      "[ 5 11 17]\n"
     ]
    }
   ],
   "source": [
    "Y = np.dot(X,W)\n",
    "print(Y)"
   ]
  },
  {
   "cell_type": "code",
   "execution_count": null,
   "metadata": {},
   "outputs": [],
   "source": [
    "X = np.array([1.0,0.5]) # 1행 2열\n",
    "W1 = np.array([[0.1,0.3,0.5],[0.2,0.4,0.6]]) # 2행 3열\n",
    "B1 = np.array([0.1,0.2,0.3])"
   ]
  },
  {
   "cell_type": "code",
   "execution_count": 17,
   "metadata": {},
   "outputs": [
    {
     "name": "stdout",
     "output_type": "stream",
     "text": [
      "(2, 3) (2,) (3,)\n",
      "[0.3 0.7 1.1]\n"
     ]
    }
   ],
   "source": [
    "print(W1.shape, X.shape, B1.shape)\n",
    "\n",
    "A1 = np.dot(X, W1) + B1\n",
    "print(A1)"
   ]
  },
  {
   "cell_type": "code",
   "execution_count": 18,
   "metadata": {},
   "outputs": [],
   "source": [
    "# 시그모이드 활성화 함수를 위 신경망 행렬곱 예제에 적용시켜보자\n",
    "def sigmoid(x):\n",
    "    return 1/ (1+np.exp(-x))\n"
   ]
  },
  {
   "cell_type": "code",
   "execution_count": 19,
   "metadata": {},
   "outputs": [
    {
     "name": "stdout",
     "output_type": "stream",
     "text": [
      "[0.3 0.7 1.1]\n",
      "[0.57444252 0.66818777 0.75026011]\n"
     ]
    }
   ],
   "source": [
    "Z1 = sigmoid(A1)\n",
    "print(A1)\n",
    "print(Z1)"
   ]
  },
  {
   "cell_type": "code",
   "execution_count": 21,
   "metadata": {},
   "outputs": [
    {
     "name": "stdout",
     "output_type": "stream",
     "text": [
      "(3,) (3, 2) (2,)\n",
      "[0.62624937 0.7710107 ]\n"
     ]
    }
   ],
   "source": [
    "# 이제 2층\n",
    "\n",
    "W2 = np.array([[0.1,0.4],[0.2,0.5],[0.3,0.6]])\n",
    "B2 = np.array([0.1,0.2])\n",
    "\n",
    "print(Z1.shape, W2.shape, B2.shape)\n",
    "\n",
    "A2 = np.dot(Z1, W2) + B2\n",
    "Z2 = sigmoid(A2)\n",
    "print(Z2)"
   ]
  },
  {
   "cell_type": "code",
   "execution_count": 22,
   "metadata": {},
   "outputs": [],
   "source": [
    "# 2층 -> 출력층으로의 신호 전달\n",
    "def identity_function(x):\n",
    "    return X\n",
    "\n",
    "W3 = np.array([[0.1,0.3], [0.2,0.4]])\n",
    "B3 = np.array([0.1,0.2])\n",
    "\n",
    "A3 = np.dot(Z2, W3) + B3\n",
    "Y = identity_function(A3) \n",
    "# 출력층은 딱 하나, 활성화 함수로 시그모이드같은게 아니라 항등함수를 사용한다!\n",
    "# 다만 풀고자 하는 task, 즉 회귀냐 분류냐에 따라 항등함수, 소프트맥스 등 다양하게 사용한다!"
   ]
  },
  {
   "cell_type": "code",
   "execution_count": 26,
   "metadata": {},
   "outputs": [],
   "source": [
    "def init_network():\n",
    "    # 네트워크 초기화 함수입니다. 가중치와 편향을 딕셔너리에 저장합니다.\n",
    "    network = {}\n",
    "    network['W1'] = np.array([[0.1, 0.3, 0.5], [0.2, 0.4, 0.6]])\n",
    "    network['b1'] = np.array([0.1, 0.2, 0.3])\n",
    "    network['W2'] = np.array([[0.1, 0.4], [0.2, 0.5], [0.3, 0.6]])\n",
    "    network['b2'] = np.array([0.1, 0.2])\n",
    "    network['W3'] = np.array([[0.1, 0.3], [0.2, 0.4]])\n",
    "    network['b3'] = np.array([0.1, 0.2])\n",
    "    return network\n",
    "\n",
    "def forward(network, x):\n",
    "    # 순전파 함수입니다. 입력 x를 받아 네트워크를 통해 출력 y를 계산합니다.\n",
    "    W1, W2, W3 = network['W1'], network['W2'], network['W3']\n",
    "    b1, b2, b3 = network['b1'], network['b2'], network['b3']\n",
    "\n",
    "    # 첫 번째 층의 계산\n",
    "    a1 = np.dot(x, W1) + b1\n",
    "    z1 = sigmoid(a1)\n",
    "\n",
    "    # 두 번째 층의 계산\n",
    "    a2 = np.dot(z1, W2) + b2\n",
    "    z2 = sigmoid(a2)\n",
    "\n",
    "    # 세 번째 층의 계산\n",
    "    a3 = np.dot(z2, W3) + b3\n",
    "    y = identity_function(a3)\n",
    "\n",
    "    return y"
   ]
  },
  {
   "cell_type": "code",
   "execution_count": 29,
   "metadata": {},
   "outputs": [
    {
     "name": "stdout",
     "output_type": "stream",
     "text": [
      "[1.  0.5]\n"
     ]
    }
   ],
   "source": [
    "network = init_network()\n",
    "x=np.array([1.0,0.5])\n",
    "y=forward(network, x)\n",
    "print(y)"
   ]
  },
  {
   "cell_type": "code",
   "execution_count": 33,
   "metadata": {},
   "outputs": [
    {
     "data": {
      "text/plain": [
       "array([0.01821127, 0.24519181, 0.73659691])"
      ]
     },
     "execution_count": 33,
     "metadata": {},
     "output_type": "execute_result"
    }
   ],
   "source": [
    "# 소프트맥스 함수 - 분류에서의 출력층에서 사용하는 활성화함수 (오버플로 미고려 버전)\n",
    "\n",
    "def softmax(a):\n",
    "    exp_a = np.exp(a)\n",
    "    sum_exp_a = np.sum(exp_a)\n",
    "    return exp_a / sum_exp_a\n",
    "\n",
    "softmax(np.array([0.3,2.9,4.0]))"
   ]
  },
  {
   "cell_type": "code",
   "execution_count": 34,
   "metadata": {},
   "outputs": [
    {
     "name": "stderr",
     "output_type": "stream",
     "text": [
      "/var/folders/8g/grq3jkbd5hb_jdz3kql04_yr0000gn/T/ipykernel_90884/3521604395.py:2: RuntimeWarning: overflow encountered in exp\n",
      "  np.exp(a)/ np.sum(np.exp(a))\n",
      "/var/folders/8g/grq3jkbd5hb_jdz3kql04_yr0000gn/T/ipykernel_90884/3521604395.py:2: RuntimeWarning: invalid value encountered in divide\n",
      "  np.exp(a)/ np.sum(np.exp(a))\n"
     ]
    },
    {
     "data": {
      "text/plain": [
       "array([nan, nan, nan])"
      ]
     },
     "execution_count": 34,
     "metadata": {},
     "output_type": "execute_result"
    }
   ],
   "source": [
    "a=np.array([1010,1000,990])\n",
    "np.exp(a)/ np.sum(np.exp(a))"
   ]
  },
  {
   "cell_type": "code",
   "execution_count": 35,
   "metadata": {},
   "outputs": [
    {
     "data": {
      "text/plain": [
       "array([  0, -10, -20])"
      ]
     },
     "execution_count": 35,
     "metadata": {},
     "output_type": "execute_result"
    }
   ],
   "source": [
    "c = np.max(a) # 오버플로를 막기위해 지수함수 지수의 임의수를 더한다. 여기선 a에서 max값의 음수\n",
    "a - c "
   ]
  },
  {
   "cell_type": "code",
   "execution_count": 36,
   "metadata": {},
   "outputs": [],
   "source": [
    "def softmax(a): # 오버플로 고려한 버전\n",
    "    c=np.max(a)\n",
    "    exp_a = np.exp(a-c)\n",
    "    sum_exp_a=np.sum(exp_a)\n",
    "    y = exp_a / sum_exp_a\n",
    "    return y"
   ]
  },
  {
   "cell_type": "markdown",
   "metadata": {},
   "source": [
    "## 소프트맥스 함수의 특징\n",
    "- y가 0, 1사이로 나온다.\n",
    "- 또한 출력 총합이 1이 된다!! => 함수의 출력을 '확률'로 해석가능 => 분류에서 쓰이는 이유\n",
    "- 다만 학습단계에서만 쓰이고 완성형 모델인, 즉 추론단계에선 지수함수계산 자원낭비 방지를 위해 생략한다 => 어차피 단조증가 함수라 대소관계가 변하지 않음\n"
   ]
  }
 ],
 "metadata": {
  "kernelspec": {
   "display_name": "base",
   "language": "python",
   "name": "python3"
  },
  "language_info": {
   "codemirror_mode": {
    "name": "ipython",
    "version": 3
   },
   "file_extension": ".py",
   "mimetype": "text/x-python",
   "name": "python",
   "nbconvert_exporter": "python",
   "pygments_lexer": "ipython3",
   "version": "3.12.7"
  }
 },
 "nbformat": 4,
 "nbformat_minor": 2
}
